{
 "cells": [
  {
   "cell_type": "markdown",
   "id": "5349acdf-9154-4b7f-b555-f14d9e79157a",
   "metadata": {},
   "source": [
    "# PROJET STREET FIGHTER AI"
   ]
  },
  {
   "cell_type": "markdown",
   "id": "2640b936-67ae-40cc-9184-15bd9efad9a5",
   "metadata": {},
   "source": [
    "Made by those (cool) guys:\n",
    "- RACHATI Imad\n",
    "- AIT MOHEMO Hamza\n",
    "- AIT SAHEL Lorlay\n",
    "- MAIZA Farès"
   ]
  },
  {
   "cell_type": "markdown",
   "id": "0b1702eb-581c-4ada-ad69-fc5a0ee2370d",
   "metadata": {},
   "source": [
    "## Setup Street fighter"
   ]
  },
  {
   "cell_type": "markdown",
   "id": "dee1e8ed",
   "metadata": {},
   "source": [
    "INITIALISATION DES LIBRAIRIE DE L'ENVIRONNEMENT (extremement important)"
   ]
  },
  {
   "cell_type": "code",
   "execution_count": null,
   "id": "36c6bafb",
   "metadata": {},
   "outputs": [],
   "source": [
    "pip install importlib-metadata==4.13.0"
   ]
  },
  {
   "cell_type": "code",
   "execution_count": null,
   "id": "b38fb729",
   "metadata": {},
   "outputs": [],
   "source": [
    "pip install pyglet==1.5.27"
   ]
  },
  {
   "cell_type": "code",
   "execution_count": null,
   "id": "2c3c4ccb-ef81-416b-b77f-27f6e1d519a8",
   "metadata": {
    "scrolled": true
   },
   "outputs": [],
   "source": [
    "pip install gym==0.21.0 gym-retro"
   ]
  },
  {
   "cell_type": "code",
   "execution_count": 1,
   "id": "869b2204-66ea-4549-86b8-3a1e7ba8c742",
   "metadata": {},
   "outputs": [],
   "source": [
    "# On import l'environnement de Gym retro pour pouvoir jouer a street fighter dessus (avec une ROM)\n",
    "import retro\n",
    "import time"
   ]
  },
  {
   "cell_type": "code",
   "execution_count": 2,
   "id": "c43d1ae1-4844-4ade-b6d3-7fb2d3fc5602",
   "metadata": {},
   "outputs": [],
   "source": [
    "#python -m retro.import ."
   ]
  },
  {
   "cell_type": "code",
   "execution_count": 3,
   "id": "e042441a-717a-4c42-b42f-a720ab2c77ca",
   "metadata": {},
   "outputs": [],
   "source": [
    "# Créer une instance de notre environnement Street fighters\n",
    "env = retro.make(game='StreetFighterIISpecialChampionEdition-Genesis')"
   ]
  },
  {
   "cell_type": "code",
   "execution_count": 4,
   "id": "f82d7d23-6da9-437c-8aab-b47ca408f575",
   "metadata": {},
   "outputs": [],
   "source": [
    "# on ne peux lancer qu'un environnement a la fois, avant de le relancer fermez l'ancien avec :\n",
    "#env.close()"
   ]
  },
  {
   "cell_type": "markdown",
   "id": "49bd80fb",
   "metadata": {},
   "source": [
    "### Qu'est ce que le \"env\""
   ]
  },
  {
   "cell_type": "code",
   "execution_count": 5,
   "id": "699e9e7a",
   "metadata": {},
   "outputs": [
    {
     "data": {
      "text/plain": [
       "Box([[[0 0 0]\n",
       "  [0 0 0]\n",
       "  [0 0 0]\n",
       "  ...\n",
       "  [0 0 0]\n",
       "  [0 0 0]\n",
       "  [0 0 0]]\n",
       "\n",
       " [[0 0 0]\n",
       "  [0 0 0]\n",
       "  [0 0 0]\n",
       "  ...\n",
       "  [0 0 0]\n",
       "  [0 0 0]\n",
       "  [0 0 0]]\n",
       "\n",
       " [[0 0 0]\n",
       "  [0 0 0]\n",
       "  [0 0 0]\n",
       "  ...\n",
       "  [0 0 0]\n",
       "  [0 0 0]\n",
       "  [0 0 0]]\n",
       "\n",
       " ...\n",
       "\n",
       " [[0 0 0]\n",
       "  [0 0 0]\n",
       "  [0 0 0]\n",
       "  ...\n",
       "  [0 0 0]\n",
       "  [0 0 0]\n",
       "  [0 0 0]]\n",
       "\n",
       " [[0 0 0]\n",
       "  [0 0 0]\n",
       "  [0 0 0]\n",
       "  ...\n",
       "  [0 0 0]\n",
       "  [0 0 0]\n",
       "  [0 0 0]]\n",
       "\n",
       " [[0 0 0]\n",
       "  [0 0 0]\n",
       "  [0 0 0]\n",
       "  ...\n",
       "  [0 0 0]\n",
       "  [0 0 0]\n",
       "  [0 0 0]]], [[[255 255 255]\n",
       "  [255 255 255]\n",
       "  [255 255 255]\n",
       "  ...\n",
       "  [255 255 255]\n",
       "  [255 255 255]\n",
       "  [255 255 255]]\n",
       "\n",
       " [[255 255 255]\n",
       "  [255 255 255]\n",
       "  [255 255 255]\n",
       "  ...\n",
       "  [255 255 255]\n",
       "  [255 255 255]\n",
       "  [255 255 255]]\n",
       "\n",
       " [[255 255 255]\n",
       "  [255 255 255]\n",
       "  [255 255 255]\n",
       "  ...\n",
       "  [255 255 255]\n",
       "  [255 255 255]\n",
       "  [255 255 255]]\n",
       "\n",
       " ...\n",
       "\n",
       " [[255 255 255]\n",
       "  [255 255 255]\n",
       "  [255 255 255]\n",
       "  ...\n",
       "  [255 255 255]\n",
       "  [255 255 255]\n",
       "  [255 255 255]]\n",
       "\n",
       " [[255 255 255]\n",
       "  [255 255 255]\n",
       "  [255 255 255]\n",
       "  ...\n",
       "  [255 255 255]\n",
       "  [255 255 255]\n",
       "  [255 255 255]]\n",
       "\n",
       " [[255 255 255]\n",
       "  [255 255 255]\n",
       "  [255 255 255]\n",
       "  ...\n",
       "  [255 255 255]\n",
       "  [255 255 255]\n",
       "  [255 255 255]]], (200, 256, 3), uint8)"
      ]
     },
     "execution_count": 5,
     "metadata": {},
     "output_type": "execute_result"
    }
   ],
   "source": [
    "#On constate avec observation spaces que le env contient une matrice de dimension 200x256x3\n",
    "#En gros c'est une image de dimension 200x256 et le 3 c'est l'info rgb\n",
    "env.observation_space"
   ]
  },
  {
   "cell_type": "code",
   "execution_count": 6,
   "id": "548d935c-d5db-4106-b817-915530b7f007",
   "metadata": {},
   "outputs": [
    {
     "data": {
      "text/plain": [
       "MultiBinary(12)"
      ]
     },
     "execution_count": 6,
     "metadata": {},
     "output_type": "execute_result"
    }
   ],
   "source": [
    "# la fonction action_space retourne un \"Multibinary 12\"\n",
    "# pour faire simple c'est une liste de 12 bits qui permettent des actions\n",
    "# par exemple : \n",
    "# [1,1,1,0,1,1,1,1,0,1,1,1] est une action précise (ptet coup de poing)\n",
    "# [1,0,1,1,0,0,0,1,0,1,1,0] est aussi une autre action precise (ptet coup de pied)\n",
    "# En gros c'est comme la manette du jeu\n",
    "# ça liste tout les moves possibles\n",
    "\n",
    "env.action_space"
   ]
  },
  {
   "cell_type": "code",
   "execution_count": 7,
   "id": "9353d172-587f-4dd6-9f8c-ed8af49c4d14",
   "metadata": {},
   "outputs": [
    {
     "data": {
      "text/plain": [
       "array([1, 1, 1, 0, 0, 0, 0, 0, 1, 1, 0, 1], dtype=int8)"
      ]
     },
     "execution_count": 7,
     "metadata": {},
     "output_type": "execute_result"
    }
   ],
   "source": [
    "#exemple de move possible\n",
    "env.action_space.sample()"
   ]
  },
  {
   "cell_type": "markdown",
   "id": "96771ac9",
   "metadata": {},
   "source": [
    "### Ecriture de la boucle de jeu"
   ]
  },
  {
   "cell_type": "code",
   "execution_count": 8,
   "id": "9ff2b3bb-77f1-4706-9f8d-843cb0bf1a98",
   "metadata": {
    "scrolled": true
   },
   "outputs": [
    {
     "name": "stderr",
     "output_type": "stream",
     "text": [
      "C:\\Users\\maiza\\anaconda3\\envs\\gym_env\\lib\\site-packages\\pyglet\\image\\codecs\\wic.py:406: UserWarning: [WinError -2147417850] Impossible de modifier le mode thread une fois qu’il a été fixé\n",
      "  warnings.warn(str(err))\n"
     ]
    }
   ],
   "source": [
    "# On remet le jeu a son etat initial (on reset en gros)\n",
    "obs = env.reset()\n",
    "# c'est le flag qui retourne True si le jeu est fini (si on a perdu ou gagné)\n",
    "done = False\n",
    "for game in range(1):\n",
    "    while not done: \n",
    "        if done: \n",
    "            obs = env.reset()\n",
    "        env.render()\n",
    "        #                              grâce a ça on va faire un move\n",
    "        # et ça va nous retourner le                ||\n",
    "        # résultat de ce move                       v\n",
    "        obs, reward, done, info = env.step(env.action_space.sample())\n",
    "        \n",
    "        # Je l'ai mis en commentaire mais vous pouvez l'enlever\n",
    "        # mais chaque fois que notre personnage arrive a toucher l'adversaire il gagne des points (100 je crois)\n",
    "        # et quand il gagne il gagne 1500 points (même plus je crois)\n",
    "        # print(reward)\n",
    "        \n",
    "        #Si vous vouslez que le gameplay sois a vitesse réelle, retirer le commentaire ici:\n",
    "        #time.sleep(0.01)"
   ]
  },
  {
   "cell_type": "code",
   "execution_count": null,
   "id": "8c062d81",
   "metadata": {},
   "outputs": [],
   "source": [
    "env.close()"
   ]
  },
  {
   "cell_type": "code",
   "execution_count": null,
   "id": "a9dfa557",
   "metadata": {},
   "outputs": [],
   "source": []
  },
  {
   "cell_type": "code",
   "execution_count": null,
   "id": "9defa2ef-6376-4f90-affa-53dbb5e3c9d1",
   "metadata": {},
   "outputs": [],
   "source": []
  }
 ],
 "metadata": {
  "kernelspec": {
   "display_name": "Python 3 (ipykernel)",
   "language": "python",
   "name": "python3"
  },
  "language_info": {
   "codemirror_mode": {
    "name": "ipython",
    "version": 3
   },
   "file_extension": ".py",
   "mimetype": "text/x-python",
   "name": "python",
   "nbconvert_exporter": "python",
   "pygments_lexer": "ipython3",
   "version": "3.9.20"
  }
 },
 "nbformat": 4,
 "nbformat_minor": 5
}
